{
 "cells": [
  {
   "cell_type": "markdown",
   "metadata": {
    "_cell_guid": "79c7e3d0-c299-4dcb-8224-4455121ee9b0",
    "_uuid": "d629ff2d2480ee46fbb7e2d37f6b5fab8052498a",
    "collapsed": true
   },
   "source": [
    "# My First Kaggle InClass Competition"
   ]
  },
  {
   "cell_type": "markdown",
   "metadata": {
    "_uuid": "633ea21ad6c2830c1598f42c7d2d516ca7810f7a"
   },
   "source": [
    "**Importing The Libraries**"
   ]
  },
  {
   "cell_type": "code",
   "execution_count": 10,
   "metadata": {
    "_uuid": "2f5121d65d9032e91f21ecdeea0219436c0a4516"
   },
   "outputs": [],
   "source": [
    "import pandas as pd\n",
    "import numpy as np\n",
    "import matplotlib.pyplot as plt\n",
    "from keras.models import Sequential\n",
    "from keras.layers import Dense\n",
    "from keras import optimizers\n",
    "from sklearn.model_selection import train_test_split\n",
    "from sklearn import preprocessing\n",
    "from keras import regularizers"
   ]
  },
  {
   "cell_type": "markdown",
   "metadata": {
    "_uuid": "ad08ad73e272dc456c3a80172191d7ab9c243ddf"
   },
   "source": [
    "**Loading The Data**"
   ]
  },
  {
   "cell_type": "code",
   "execution_count": 11,
   "metadata": {
    "_uuid": "8ca45416a3bcdb2f8a2aad872e61dde07a10d056",
    "scrolled": true
   },
   "outputs": [
    {
     "data": {
      "text/html": [
       "<div>\n",
       "<style scoped>\n",
       "    .dataframe tbody tr th:only-of-type {\n",
       "        vertical-align: middle;\n",
       "    }\n",
       "\n",
       "    .dataframe tbody tr th {\n",
       "        vertical-align: top;\n",
       "    }\n",
       "\n",
       "    .dataframe thead th {\n",
       "        text-align: right;\n",
       "    }\n",
       "</style>\n",
       "<table border=\"1\" class=\"dataframe\">\n",
       "  <thead>\n",
       "    <tr style=\"text-align: right;\">\n",
       "      <th></th>\n",
       "      <th>p_id</th>\n",
       "      <th>no_times_pregnant</th>\n",
       "      <th>glucose_concentration</th>\n",
       "      <th>blood_pressure</th>\n",
       "      <th>skin_fold_thickness</th>\n",
       "      <th>serum_insulin</th>\n",
       "      <th>bmi</th>\n",
       "      <th>diabetes pedigree</th>\n",
       "      <th>age</th>\n",
       "      <th>diabetes</th>\n",
       "    </tr>\n",
       "  </thead>\n",
       "  <tbody>\n",
       "    <tr>\n",
       "      <th>0</th>\n",
       "      <td>316</td>\n",
       "      <td>2</td>\n",
       "      <td>112</td>\n",
       "      <td>68</td>\n",
       "      <td>22</td>\n",
       "      <td>94</td>\n",
       "      <td>34.1</td>\n",
       "      <td>0.315</td>\n",
       "      <td>26</td>\n",
       "      <td>0</td>\n",
       "    </tr>\n",
       "    <tr>\n",
       "      <th>1</th>\n",
       "      <td>25</td>\n",
       "      <td>11</td>\n",
       "      <td>143</td>\n",
       "      <td>94</td>\n",
       "      <td>33</td>\n",
       "      <td>146</td>\n",
       "      <td>36.6</td>\n",
       "      <td>0.254</td>\n",
       "      <td>51</td>\n",
       "      <td>1</td>\n",
       "    </tr>\n",
       "    <tr>\n",
       "      <th>2</th>\n",
       "      <td>710</td>\n",
       "      <td>2</td>\n",
       "      <td>93</td>\n",
       "      <td>64</td>\n",
       "      <td>32</td>\n",
       "      <td>160</td>\n",
       "      <td>38.0</td>\n",
       "      <td>0.674</td>\n",
       "      <td>23</td>\n",
       "      <td>1</td>\n",
       "    </tr>\n",
       "    <tr>\n",
       "      <th>3</th>\n",
       "      <td>658</td>\n",
       "      <td>1</td>\n",
       "      <td>120</td>\n",
       "      <td>80</td>\n",
       "      <td>48</td>\n",
       "      <td>200</td>\n",
       "      <td>38.9</td>\n",
       "      <td>1.162</td>\n",
       "      <td>41</td>\n",
       "      <td>0</td>\n",
       "    </tr>\n",
       "    <tr>\n",
       "      <th>4</th>\n",
       "      <td>542</td>\n",
       "      <td>3</td>\n",
       "      <td>128</td>\n",
       "      <td>72</td>\n",
       "      <td>25</td>\n",
       "      <td>190</td>\n",
       "      <td>32.4</td>\n",
       "      <td>0.549</td>\n",
       "      <td>27</td>\n",
       "      <td>1</td>\n",
       "    </tr>\n",
       "  </tbody>\n",
       "</table>\n",
       "</div>"
      ],
      "text/plain": [
       "   p_id  no_times_pregnant  glucose_concentration  blood_pressure  \\\n",
       "0   316                  2                    112              68   \n",
       "1    25                 11                    143              94   \n",
       "2   710                  2                     93              64   \n",
       "3   658                  1                    120              80   \n",
       "4   542                  3                    128              72   \n",
       "\n",
       "   skin_fold_thickness  serum_insulin   bmi  diabetes pedigree  age  diabetes  \n",
       "0                   22             94  34.1              0.315   26         0  \n",
       "1                   33            146  36.6              0.254   51         1  \n",
       "2                   32            160  38.0              0.674   23         1  \n",
       "3                   48            200  38.9              1.162   41         0  \n",
       "4                   25            190  32.4              0.549   27         1  "
      ]
     },
     "execution_count": 11,
     "metadata": {},
     "output_type": "execute_result"
    }
   ],
   "source": [
    "df = pd.read_csv('train.csv')\n",
    "test = pd.read_csv('test.csv')\n",
    "sample = pd.read_csv('sample.csv')\n",
    "df.head()"
   ]
  },
  {
   "cell_type": "markdown",
   "metadata": {
    "_uuid": "85c3f1fc6870c858308069f7b664511b224ad7db"
   },
   "source": [
    "**Visualizing The Important Features**"
   ]
  },
  {
   "cell_type": "code",
   "execution_count": 12,
   "metadata": {
    "_uuid": "a4bdfb29b0c782ca1e54d123b71cd4b2ffe009cf"
   },
   "outputs": [
    {
     "data": {
      "image/png": "[encoded data removed]",
      "text/plain": [
       "<Figure size 432x288 with 1 Axes>"
      ]
     },
     "metadata": {},
     "output_type": "display_data"
    }
   ],
   "source": [
    "df.glucose_concentration.hist()\n",
    "plt.show()"
   ]
  },
  {
   "cell_type": "code",
   "execution_count": 13,
   "metadata": {
    "_uuid": "fd715b2eb8434f7ea668b04eee5cc6db5eaf577c"
   },
   "outputs": [
    {
     "data": {
      "image/png": "[encoded data removed]",
      "text/plain": [
       "<Figure size 432x288 with 1 Axes>"
      ]
     },
     "metadata": {},
     "output_type": "display_data"
    }
   ],
   "source": [
    "df.serum_insulin.hist()\n",
    "plt.show()"
   ]
  },
  {
   "cell_type": "markdown",
   "metadata": {
    "_uuid": "ca803ff66e28caa660725773c64bbee10ac1328e"
   },
   "source": [
    "**Since there were a lot features with high magnitude and it was causing high variance/Overfitting on the training data, I decided to Scale the features in the range of 0 to 1 using Min-Max_scaler.**"
   ]
  },
  {
   "cell_type": "code",
   "execution_count": 14,
   "metadata": {
    "_uuid": "76e2c078fbda2b89ef1fc9970085685a58e3a669"
   },
   "outputs": [
    {
     "data": {
      "text/html": [
       "<div>\n",
       "<style scoped>\n",
       "    .dataframe tbody tr th:only-of-type {\n",
       "        vertical-align: middle;\n",
       "    }\n",
       "\n",
       "    .dataframe tbody tr th {\n",
       "        vertical-align: top;\n",
       "    }\n",
       "\n",
       "    .dataframe thead th {\n",
       "        text-align: right;\n",
       "    }\n",
       "</style>\n",
       "<table border=\"1\" class=\"dataframe\">\n",
       "  <thead>\n",
       "    <tr style=\"text-align: right;\">\n",
       "      <th></th>\n",
       "      <th>0</th>\n",
       "      <th>1</th>\n",
       "      <th>2</th>\n",
       "      <th>3</th>\n",
       "      <th>4</th>\n",
       "      <th>5</th>\n",
       "      <th>6</th>\n",
       "      <th>7</th>\n",
       "      <th>8</th>\n",
       "      <th>9</th>\n",
       "    </tr>\n",
       "  </thead>\n",
       "  <tbody>\n",
       "    <tr>\n",
       "      <th>0</th>\n",
       "      <td>0.410691</td>\n",
       "      <td>0.117647</td>\n",
       "      <td>0.568528</td>\n",
       "      <td>0.596491</td>\n",
       "      <td>0.349206</td>\n",
       "      <td>0.111111</td>\n",
       "      <td>0.574074</td>\n",
       "      <td>0.101196</td>\n",
       "      <td>0.083333</td>\n",
       "      <td>0.0</td>\n",
       "    </tr>\n",
       "    <tr>\n",
       "      <th>1</th>\n",
       "      <td>0.031291</td>\n",
       "      <td>0.647059</td>\n",
       "      <td>0.725888</td>\n",
       "      <td>0.824561</td>\n",
       "      <td>0.523810</td>\n",
       "      <td>0.172577</td>\n",
       "      <td>0.616162</td>\n",
       "      <td>0.075149</td>\n",
       "      <td>0.500000</td>\n",
       "      <td>1.0</td>\n",
       "    </tr>\n",
       "    <tr>\n",
       "      <th>2</th>\n",
       "      <td>0.924381</td>\n",
       "      <td>0.117647</td>\n",
       "      <td>0.472081</td>\n",
       "      <td>0.561404</td>\n",
       "      <td>0.507937</td>\n",
       "      <td>0.189125</td>\n",
       "      <td>0.639731</td>\n",
       "      <td>0.254483</td>\n",
       "      <td>0.033333</td>\n",
       "      <td>1.0</td>\n",
       "    </tr>\n",
       "    <tr>\n",
       "      <th>3</th>\n",
       "      <td>0.856584</td>\n",
       "      <td>0.058824</td>\n",
       "      <td>0.609137</td>\n",
       "      <td>0.701754</td>\n",
       "      <td>0.761905</td>\n",
       "      <td>0.236407</td>\n",
       "      <td>0.654882</td>\n",
       "      <td>0.462852</td>\n",
       "      <td>0.333333</td>\n",
       "      <td>0.0</td>\n",
       "    </tr>\n",
       "    <tr>\n",
       "      <th>4</th>\n",
       "      <td>0.705346</td>\n",
       "      <td>0.176471</td>\n",
       "      <td>0.649746</td>\n",
       "      <td>0.631579</td>\n",
       "      <td>0.396825</td>\n",
       "      <td>0.224586</td>\n",
       "      <td>0.545455</td>\n",
       "      <td>0.201110</td>\n",
       "      <td>0.100000</td>\n",
       "      <td>1.0</td>\n",
       "    </tr>\n",
       "  </tbody>\n",
       "</table>\n",
       "</div>"
      ],
      "text/plain": [
       "          0         1         2         3         4         5         6  \\\n",
       "0  0.410691  0.117647  0.568528  0.596491  0.349206  0.111111  0.574074   \n",
       "1  0.031291  0.647059  0.725888  0.824561  0.523810  0.172577  0.616162   \n",
       "2  0.924381  0.117647  0.472081  0.561404  0.507937  0.189125  0.639731   \n",
       "3  0.856584  0.058824  0.609137  0.701754  0.761905  0.236407  0.654882   \n",
       "4  0.705346  0.176471  0.649746  0.631579  0.396825  0.224586  0.545455   \n",
       "\n",
       "          7         8    9  \n",
       "0  0.101196  0.083333  0.0  \n",
       "1  0.075149  0.500000  1.0  \n",
       "2  0.254483  0.033333  1.0  \n",
       "3  0.462852  0.333333  0.0  \n",
       "4  0.201110  0.100000  1.0  "
      ]
     },
     "execution_count": 14,
     "metadata": {},
     "output_type": "execute_result"
    }
   ],
   "source": [
    "min_max_scaler = preprocessing.MinMaxScaler()\n",
    "#Scaling The Training Data\n",
    "x = df.values\n",
    "x_scaled = min_max_scaler.fit_transform(x)\n",
    "df = pd.DataFrame(x_scaled)\n",
    "#Scaling The Testing Data\n",
    "y = test.values\n",
    "y_scaled = min_max_scaler.fit_transform(y)\n",
    "test = pd.DataFrame(y_scaled)\n",
    "df.head()"
   ]
  },
  {
   "cell_type": "markdown",
   "metadata": {
    "_uuid": "08122fa232b03f50f0b3d81d4f022c0f9804b797"
   },
   "source": [
    "**Visualizing The Important Features After Scaling**"
   ]
  },
  {
   "cell_type": "code",
   "execution_count": 15,
   "metadata": {
    "_uuid": "ae84214061eb315a501290d30ad68ab99d43e6ec"
   },
   "outputs": [
    {
     "data": {
      "image/png": "[encoded data removed]",
      "text/plain": [
       "<Figure size 432x288 with 1 Axes>"
      ]
     },
     "metadata": {},
     "output_type": "display_data"
    }
   ],
   "source": [
    "df[2].hist() #Glucose Concentration\n",
    "plt.show()"
   ]
  },
  {
   "cell_type": "code",
   "execution_count": 16,
   "metadata": {
    "_uuid": "f3dc2bad3f27586df9b39cbf3e1bf2e786360021"
   },
   "outputs": [
    {
     "data": {
      "image/png": "[encoded data removed]",
      "text/plain": [
       "<Figure size 432x288 with 1 Axes>"
      ]
     },
     "metadata": {},
     "output_type": "display_data"
    }
   ],
   "source": [
    "df[5].hist() #Serum Insulin\n",
    "plt.show()"
   ]
  },
  {
   "cell_type": "markdown",
   "metadata": {
    "_uuid": "68e63e40e17724496dec2dc8fc2f4d881fd631cc"
   },
   "source": [
    "**Spliting the training data into Traning and Developement Data**"
   ]
  },
  {
   "cell_type": "code",
   "execution_count": 17,
   "metadata": {
    "_uuid": "cce5bfad2759af078e201ebb6c548a6656aca0b7"
   },
   "outputs": [],
   "source": [
    "train, dev = train_test_split(df, test_size=0.2)"
   ]
  },
  {
   "cell_type": "markdown",
   "metadata": {
    "_uuid": "d84f28649dfa8cc4e1ed0439ca706ac2fb08d780"
   },
   "source": [
    "**Setting Up the Hyperparameters**"
   ]
  },
  {
   "cell_type": "code",
   "execution_count": 18,
   "metadata": {
    "_uuid": "f387dff768b808ec27012a9992ab180c6ec2f92c"
   },
   "outputs": [],
   "source": [
    "hidden_units=300\n",
    "learning_rate=0.005 #Learning rate was quite optimal\n",
    "hidden_layer_act='tanh'\n",
    "output_layer_act='sigmoid'\n",
    "no_epochs=100 #Increasing The epochs would overfit\n",
    "bsize = 128 #Batch Size Of 128 "
   ]
  },
  {
   "cell_type": "markdown",
   "metadata": {
    "_uuid": "d494d96618473cb502adc6dedba47d43cb227755"
   },
   "source": [
    "**Model Architechture**"
   ]
  },
  {
   "cell_type": "code",
   "execution_count": 53,
   "metadata": {
    "_uuid": "0e9450af519f4b7fc8046f5808e3cf278b26d403"
   },
   "outputs": [],
   "source": [
    "model = Sequential()\n",
    "\n",
    "model.add(Dense(hidden_units, input_dim=8, activation=hidden_layer_act))\n",
    "model.add(Dense(hidden_units, activation=hidden_layer_act))\n",
    "model.add(Dense(1, activation=output_layer_act))"
   ]
  },
  {
   "cell_type": "markdown",
   "metadata": {
    "_uuid": "6be4d783c58852500c9964b5d1699bc0a0e6b7ef"
   },
   "source": [
    "**Setting Up loss function, Optimizer, Metrics**"
   ]
  },
  {
   "cell_type": "code",
   "execution_count": 54,
   "metadata": {
    "_uuid": "aa39de7ea84e6ac596565272e00c52af21e81ef3"
   },
   "outputs": [],
   "source": [
    "adam = optimizers.Adam(lr=learning_rate, beta_1=0.9, beta_2=0.999, epsilon=None, decay=0.0, amsgrad=False)\n",
    "model.compile(loss='binary_crossentropy',optimizer=adam, metrics=['acc'])"
   ]
  },
  {
   "cell_type": "markdown",
   "metadata": {
    "_uuid": "baffb4167a2fef00f762568967de181a40b0ac69"
   },
   "source": [
    "**Training the Model**"
   ]
  },
  {
   "cell_type": "code",
   "execution_count": 55,
   "metadata": {
    "_uuid": "8560e867b645bb7bf9e706f30006d2fcd4ec7086",
    "scrolled": false
   },
   "outputs": [
    {
     "name": "stdout",
     "output_type": "stream",
     "text": [
      "Epoch 1/100\n",
      " - 1s - loss: 0.7526 - acc: 0.6008\n",
      "Epoch 2/100\n",
      " - 0s - loss: 0.6437 - acc: 0.6599\n",
      "Epoch 3/100\n",
      " - 0s - loss: 0.6138 - acc: 0.6680\n",
      "Epoch 4/100\n",
      " - 0s - loss: 0.6014 - acc: 0.6925\n",
      "Epoch 5/100\n",
      " - 0s - loss: 0.5774 - acc: 0.6925\n",
      "Epoch 6/100\n",
      " - 0s - loss: 0.5524 - acc: 0.7067\n",
      "Epoch 7/100\n",
      " - 0s - loss: 0.5294 - acc: 0.7658\n",
      "Epoch 8/100\n",
      " - 0s - loss: 0.5118 - acc: 0.7637\n",
      "Epoch 9/100\n",
      " - 0s - loss: 0.5070 - acc: 0.7495\n",
      "Epoch 10/100\n",
      " - 0s - loss: 0.5012 - acc: 0.7739\n",
      "Epoch 11/100\n",
      " - 0s - loss: 0.4789 - acc: 0.7800\n",
      "Epoch 12/100\n",
      " - 0s - loss: 0.4709 - acc: 0.7902\n",
      "Epoch 13/100\n",
      " - 0s - loss: 0.4779 - acc: 0.7719\n",
      "Epoch 14/100\n",
      " - 0s - loss: 0.4748 - acc: 0.7719\n",
      "Epoch 15/100\n",
      " - 0s - loss: 0.4778 - acc: 0.7963\n",
      "Epoch 16/100\n",
      " - 0s - loss: 0.4657 - acc: 0.7719\n",
      "Epoch 17/100\n",
      " - 0s - loss: 0.4681 - acc: 0.8045\n",
      "Epoch 18/100\n",
      " - 0s - loss: 0.4590 - acc: 0.7760\n",
      "Epoch 19/100\n",
      " - 0s - loss: 0.4478 - acc: 0.8045\n",
      "Epoch 20/100\n",
      " - 0s - loss: 0.4569 - acc: 0.7963\n",
      "Epoch 21/100\n",
      " - 0s - loss: 0.4496 - acc: 0.7882\n",
      "Epoch 22/100\n",
      " - 0s - loss: 0.4470 - acc: 0.8024\n",
      "Epoch 23/100\n",
      " - 0s - loss: 0.4523 - acc: 0.7943\n",
      "Epoch 24/100\n",
      " - 0s - loss: 0.4546 - acc: 0.8045\n",
      "Epoch 25/100\n",
      " - 0s - loss: 0.4703 - acc: 0.7719\n",
      "Epoch 26/100\n",
      " - 0s - loss: 0.4885 - acc: 0.7902\n",
      "Epoch 27/100\n",
      " - 0s - loss: 0.4686 - acc: 0.7800\n",
      "Epoch 28/100\n",
      " - 0s - loss: 0.4555 - acc: 0.7984\n",
      "Epoch 29/100\n",
      " - 0s - loss: 0.4625 - acc: 0.7963\n",
      "Epoch 30/100\n",
      " - 0s - loss: 0.4539 - acc: 0.7902\n",
      "Epoch 31/100\n",
      " - 0s - loss: 0.4482 - acc: 0.8004\n",
      "Epoch 32/100\n",
      " - 0s - loss: 0.4472 - acc: 0.7923\n",
      "Epoch 33/100\n",
      " - 0s - loss: 0.4493 - acc: 0.7923\n",
      "Epoch 34/100\n",
      " - 0s - loss: 0.4469 - acc: 0.7902\n",
      "Epoch 35/100\n",
      " - 0s - loss: 0.4518 - acc: 0.8065\n",
      "Epoch 36/100\n",
      " - 0s - loss: 0.4477 - acc: 0.8004\n",
      "Epoch 37/100\n",
      " - 0s - loss: 0.4482 - acc: 0.8106\n",
      "Epoch 38/100\n",
      " - 0s - loss: 0.4512 - acc: 0.7923\n",
      "Epoch 39/100\n",
      " - 0s - loss: 0.4544 - acc: 0.7882\n",
      "Epoch 40/100\n",
      " - 0s - loss: 0.4502 - acc: 0.8004\n",
      "Epoch 41/100\n",
      " - 0s - loss: 0.4509 - acc: 0.7882\n",
      "Epoch 42/100\n",
      " - 0s - loss: 0.4488 - acc: 0.7963\n",
      "Epoch 43/100\n",
      " - 0s - loss: 0.4548 - acc: 0.8004\n",
      "Epoch 44/100\n",
      " - 0s - loss: 0.4538 - acc: 0.8004\n",
      "Epoch 45/100\n",
      " - 0s - loss: 0.4471 - acc: 0.7923\n",
      "Epoch 46/100\n",
      " - 0s - loss: 0.4521 - acc: 0.7943\n",
      "Epoch 47/100\n",
      " - 0s - loss: 0.4536 - acc: 0.8106\n",
      "Epoch 48/100\n",
      " - 0s - loss: 0.4551 - acc: 0.7882\n",
      "Epoch 49/100\n",
      " - 0s - loss: 0.4494 - acc: 0.8106\n",
      "Epoch 50/100\n",
      " - 0s - loss: 0.4609 - acc: 0.7800\n",
      "Epoch 51/100\n",
      " - 0s - loss: 0.4520 - acc: 0.8106\n",
      "Epoch 52/100\n",
      " - 0s - loss: 0.4525 - acc: 0.7841\n",
      "Epoch 53/100\n",
      " - 0s - loss: 0.4476 - acc: 0.8106\n",
      "Epoch 54/100\n",
      " - 0s - loss: 0.4477 - acc: 0.8024\n",
      "Epoch 55/100\n",
      " - 0s - loss: 0.4487 - acc: 0.7963\n",
      "Epoch 56/100\n",
      " - 0s - loss: 0.4511 - acc: 0.7882\n",
      "Epoch 57/100\n",
      " - 0s - loss: 0.4496 - acc: 0.8065\n",
      "Epoch 58/100\n",
      " - 0s - loss: 0.4475 - acc: 0.8004\n",
      "Epoch 59/100\n",
      " - 0s - loss: 0.4527 - acc: 0.7882\n",
      "Epoch 60/100\n",
      " - 0s - loss: 0.4490 - acc: 0.7882\n",
      "Epoch 61/100\n",
      " - 0s - loss: 0.4431 - acc: 0.7963\n",
      "Epoch 62/100\n",
      " - 0s - loss: 0.4605 - acc: 0.7984\n",
      "Epoch 63/100\n",
      " - 0s - loss: 0.4632 - acc: 0.8086\n",
      "Epoch 64/100\n",
      " - 0s - loss: 0.4512 - acc: 0.8004\n",
      "Epoch 65/100\n",
      " - 0s - loss: 0.4524 - acc: 0.8086\n",
      "Epoch 66/100\n",
      " - 0s - loss: 0.4508 - acc: 0.7984\n",
      "Epoch 67/100\n",
      " - 0s - loss: 0.4485 - acc: 0.7923\n",
      "Epoch 68/100\n",
      " - 0s - loss: 0.4458 - acc: 0.8086\n",
      "Epoch 69/100\n",
      " - 0s - loss: 0.4499 - acc: 0.7923\n",
      "Epoch 70/100\n",
      " - 0s - loss: 0.4519 - acc: 0.8126\n",
      "Epoch 71/100\n",
      " - 0s - loss: 0.4560 - acc: 0.7800\n",
      "Epoch 72/100\n",
      " - 0s - loss: 0.4488 - acc: 0.8045\n",
      "Epoch 73/100\n",
      " - 0s - loss: 0.4400 - acc: 0.8086\n",
      "Epoch 74/100\n",
      " - 0s - loss: 0.4471 - acc: 0.7841\n",
      "Epoch 75/100\n",
      " - 0s - loss: 0.4366 - acc: 0.8045\n",
      "Epoch 76/100\n",
      " - 0s - loss: 0.4374 - acc: 0.7841\n",
      "Epoch 77/100\n",
      " - 0s - loss: 0.4359 - acc: 0.8106\n",
      "Epoch 78/100\n",
      " - 0s - loss: 0.4464 - acc: 0.7719\n",
      "Epoch 79/100\n",
      " - 0s - loss: 0.4366 - acc: 0.8167\n",
      "Epoch 80/100\n",
      " - 0s - loss: 0.4271 - acc: 0.7984\n",
      "Epoch 81/100\n",
      " - 0s - loss: 0.4247 - acc: 0.8024\n",
      "Epoch 82/100\n",
      " - 0s - loss: 0.4207 - acc: 0.8106\n",
      "Epoch 83/100\n",
      " - 0s - loss: 0.4187 - acc: 0.8086\n",
      "Epoch 84/100\n",
      " - 0s - loss: 0.4200 - acc: 0.8065\n",
      "Epoch 85/100\n",
      " - 0s - loss: 0.4182 - acc: 0.8106\n",
      "Epoch 86/100\n",
      " - 0s - loss: 0.4152 - acc: 0.8106\n",
      "Epoch 87/100\n",
      " - 0s - loss: 0.4125 - acc: 0.8126\n",
      "Epoch 88/100\n",
      " - 0s - loss: 0.4157 - acc: 0.8106\n",
      "Epoch 89/100\n",
      " - 0s - loss: 0.4160 - acc: 0.8106\n",
      "Epoch 90/100\n",
      " - 0s - loss: 0.4168 - acc: 0.8106\n",
      "Epoch 91/100\n",
      " - 0s - loss: 0.4186 - acc: 0.8024\n",
      "Epoch 92/100\n",
      " - 0s - loss: 0.4171 - acc: 0.8065\n",
      "Epoch 93/100\n",
      " - 0s - loss: 0.4183 - acc: 0.8065\n",
      "Epoch 94/100\n",
      " - 0s - loss: 0.4150 - acc: 0.8147\n",
      "Epoch 95/100\n",
      " - 0s - loss: 0.4112 - acc: 0.8024\n",
      "Epoch 96/100\n",
      " - 0s - loss: 0.4139 - acc: 0.8004\n",
      "Epoch 97/100\n",
      " - 0s - loss: 0.4243 - acc: 0.7984\n",
      "Epoch 98/100\n",
      " - 0s - loss: 0.4226 - acc: 0.8228\n",
      "Epoch 99/100\n",
      " - 0s - loss: 0.4351 - acc: 0.7943\n",
      "Epoch 100/100\n",
      " - 0s - loss: 0.4382 - acc: 0.7943\n"
     ]
    },
    {
     "data": {
      "text/plain": [
       "<keras.callbacks.History at 0x1a6229a4a8>"
      ]
     },
     "execution_count": 55,
     "metadata": {},
     "output_type": "execute_result"
    }
   ],
   "source": [
    "train_x=train.iloc[:,1:9]\n",
    "train_y=train.iloc[:,9]\n",
    "\n",
    "model.fit(train_x, train_y, epochs=no_epochs, batch_size= bsize,  verbose=2)"
   ]
  },
  {
   "cell_type": "markdown",
   "metadata": {
    "_uuid": "72979ebcbb6a184564240929d081b68dbae2a801"
   },
   "source": [
    "**Validation Loss and Accuracy**"
   ]
  },
  {
   "cell_type": "code",
   "execution_count": 56,
   "metadata": {
    "_uuid": "cdb5e713f6307b77fce39d8f7a7959dfe90677df"
   },
   "outputs": [
    {
     "name": "stdout",
     "output_type": "stream",
     "text": [
      "123/123 [==============================] - 0s 2ms/step\n",
      "Validation Loss :  0.6446438722494172\n",
      "Validation Acc :  0.7154471554407259\n"
     ]
    }
   ],
   "source": [
    "val_loss, val_acc = model.evaluate(dev.iloc[:,1:9], dev.iloc[:,9])\n",
    "print(\"Validation Loss : \", val_loss)\n",
    "print(\"Validation Acc : \",val_acc)"
   ]
  },
  {
   "cell_type": "markdown",
   "metadata": {
    "_uuid": "a7acd561ba25c60d51c5cb0c5206b57d57941669"
   },
   "source": [
    "**Low Bias and Low Variance ** : \n",
    "Compared to the highest accuracy this model performed well on training data(Low Bias) and gave a equivalent accuracy on the validation set (Low Variance)"
   ]
  },
  {
   "cell_type": "markdown",
   "metadata": {
    "_uuid": "76e09b1e53a0562fc08a28ccb57f263f4760c002"
   },
   "source": [
    "**Predicting The outputs for the Training Data**"
   ]
  },
  {
   "cell_type": "code",
   "execution_count": 57,
   "metadata": {
    "_uuid": "e1bd9c4fb7e8b8c533488d6747c830baf78ea152"
   },
   "outputs": [
    {
     "name": "stdout",
     "output_type": "stream",
     "text": [
      "[[5.43629885e-01]\n",
      " [3.29973847e-01]\n",
      " [4.25788224e-01]\n",
      " [4.45285082e-01]\n",
      " [9.65522602e-02]\n",
      " [1.85475558e-01]\n",
      " [8.04983079e-01]\n",
      " [2.04827964e-01]\n",
      " [5.83549961e-02]\n",
      " [1.36937918e-02]\n",
      " [7.85698533e-01]\n",
      " [1.03782333e-01]\n",
      " [8.08525741e-01]\n",
      " [5.18844128e-02]\n",
      " [4.82654899e-01]\n",
      " [2.16680408e-01]\n",
      " [7.38748983e-02]\n",
      " [3.93675342e-02]\n",
      " [5.31747699e-01]\n",
      " [7.42176890e-01]\n",
      " [2.10974127e-01]\n",
      " [2.56621748e-01]\n",
      " [3.71583849e-01]\n",
      " [6.25753939e-01]\n",
      " [1.19247504e-01]\n",
      " [1.39180636e-02]\n",
      " [1.35115534e-02]\n",
      " [2.13988379e-01]\n",
      " [4.98683788e-02]\n",
      " [4.13771570e-01]\n",
      " [2.58884490e-01]\n",
      " [2.19000541e-02]\n",
      " [1.14152379e-01]\n",
      " [2.32163761e-02]\n",
      " [7.21844196e-01]\n",
      " [5.12419827e-02]\n",
      " [3.40370536e-02]\n",
      " [6.91444695e-01]\n",
      " [5.84907122e-02]\n",
      " [2.00803354e-02]\n",
      " [6.10351026e-01]\n",
      " [9.21086967e-01]\n",
      " [2.04301085e-02]\n",
      " [8.41565251e-01]\n",
      " [2.52494097e-01]\n",
      " [1.91127747e-01]\n",
      " [8.28330874e-01]\n",
      " [6.12445712e-01]\n",
      " [6.44030631e-01]\n",
      " [1.26799300e-01]\n",
      " [5.89581668e-01]\n",
      " [1.64958119e-01]\n",
      " [4.59752321e-01]\n",
      " [8.88906777e-01]\n",
      " [2.49396972e-02]\n",
      " [1.18375540e-01]\n",
      " [2.56556179e-02]\n",
      " [4.27805454e-01]\n",
      " [6.63991511e-01]\n",
      " [1.07667804e-01]\n",
      " [6.66907609e-01]\n",
      " [4.62993346e-02]\n",
      " [4.56641102e-03]\n",
      " [2.32553616e-01]\n",
      " [4.67713714e-01]\n",
      " [6.96092486e-01]\n",
      " [1.61222182e-02]\n",
      " [2.04564966e-02]\n",
      " [2.21488789e-01]\n",
      " [5.41655198e-02]\n",
      " [8.19425106e-01]\n",
      " [8.40086877e-01]\n",
      " [3.87304068e-01]\n",
      " [2.56168813e-01]\n",
      " [2.05325317e-02]\n",
      " [8.08592420e-04]\n",
      " [3.06688473e-02]\n",
      " [1.31254807e-01]\n",
      " [1.77962780e-02]\n",
      " [1.80080310e-02]\n",
      " [4.27843004e-01]\n",
      " [6.65649354e-01]\n",
      " [3.52596700e-01]\n",
      " [3.28919768e-01]\n",
      " [3.48226391e-02]\n",
      " [4.03582454e-02]\n",
      " [3.33017200e-01]\n",
      " [2.31012374e-01]\n",
      " [4.84315259e-03]\n",
      " [2.94375271e-02]\n",
      " [1.21998742e-01]\n",
      " [1.24457575e-01]\n",
      " [4.91629362e-01]\n",
      " [2.87822098e-01]\n",
      " [9.26051438e-01]\n",
      " [1.90399110e-01]\n",
      " [1.01355344e-01]\n",
      " [2.09953710e-01]\n",
      " [1.72276318e-01]\n",
      " [2.17571855e-01]\n",
      " [5.88938057e-01]\n",
      " [3.68345648e-01]\n",
      " [5.29699884e-02]\n",
      " [2.74459440e-02]\n",
      " [5.55502295e-01]\n",
      " [4.54468161e-01]\n",
      " [2.86534518e-01]\n",
      " [4.49975990e-02]\n",
      " [1.48284093e-01]\n",
      " [2.31217090e-02]\n",
      " [7.56987095e-01]\n",
      " [5.55695176e-01]\n",
      " [1.48175746e-01]\n",
      " [7.28254080e-01]\n",
      " [8.93854722e-02]\n",
      " [9.03264344e-01]\n",
      " [9.47280645e-01]\n",
      " [4.48041931e-02]\n",
      " [4.59237665e-01]\n",
      " [1.18216865e-01]\n",
      " [7.74605691e-01]\n",
      " [1.99220330e-02]\n",
      " [7.01503575e-01]\n",
      " [3.11565757e-01]\n",
      " [2.09998842e-02]\n",
      " [2.59294569e-01]\n",
      " [2.76785225e-01]\n",
      " [3.22768167e-02]\n",
      " [7.42243946e-01]\n",
      " [1.19584084e-01]\n",
      " [2.60984182e-01]\n",
      " [1.30673483e-01]\n",
      " [7.08013594e-01]\n",
      " [8.84760842e-02]\n",
      " [4.12217408e-01]\n",
      " [6.98102951e-01]\n",
      " [2.04701245e-01]\n",
      " [4.17222470e-01]\n",
      " [5.33095598e-01]\n",
      " [2.68947542e-01]\n",
      " [3.35290432e-02]\n",
      " [3.50044847e-01]\n",
      " [4.08530943e-02]\n",
      " [4.13655303e-02]\n",
      " [7.22728968e-01]\n",
      " [3.16654831e-01]\n",
      " [1.17645293e-01]\n",
      " [3.88939708e-01]\n",
      " [5.94888866e-01]\n",
      " [3.17908257e-01]\n",
      " [9.83270168e-01]\n",
      " [1.57732759e-02]\n",
      " [6.42888248e-02]\n",
      " [6.43795550e-01]]\n"
     ]
    }
   ],
   "source": [
    "test_x=test.iloc[:,1:9]\n",
    "predictions = model.predict(test_x)\n",
    "print(predictions)"
   ]
  },
  {
   "cell_type": "markdown",
   "metadata": {
    "_uuid": "70466f623d6d2e250a0a9c841017d2ee4a26cb74"
   },
   "source": [
    "**Submission File**"
   ]
  },
  {
   "cell_type": "code",
   "execution_count": 58,
   "metadata": {
    "_uuid": "623e7a84e61caa62b888829fab52aba64d9d053d"
   },
   "outputs": [
    {
     "name": "stdout",
     "output_type": "stream",
     "text": [
      "[1, 0, 0, 0, 0, 0, 1, 0, 0, 0, 1, 0, 1, 0, 0, 0, 0, 0, 1, 1, 0, 0, 0, 1, 0, 0, 0, 0, 0, 0, 0, 0, 0, 0, 1, 0, 0, 1, 0, 0, 1, 1, 0, 1, 0, 0, 1, 1, 1, 0, 1, 0, 0, 1, 0, 0, 0, 0, 1, 0, 1, 0, 0, 0, 0, 1, 0, 0, 0, 0, 1, 1, 0, 0, 0, 0, 0, 0, 0, 0, 0, 1, 0, 0, 0, 0, 0, 0, 0, 0, 0, 0, 0, 0, 1, 0, 0, 0, 0, 0, 1, 0, 0, 0, 1, 0, 0, 0, 0, 0, 1, 1, 0, 1, 0, 1, 1, 0, 0, 0, 1, 0, 1, 0, 0, 0, 0, 0, 1, 0, 0, 0, 1, 0, 0, 1, 0, 0, 1, 0, 0, 0, 0, 0, 1, 0, 0, 0, 1, 0, 1, 0, 0, 1]\n"
     ]
    }
   ],
   "source": [
    "rounded = [int(round(x[0])) for x in predictions]\n",
    "print(rounded)\n",
    "sample.diabetes = rounded\n",
    "sample.to_csv('submission.csv',index = False)"
   ]
  },
  {
   "cell_type": "markdown",
   "metadata": {},
   "source": [
    "The results are stored in submission.csv file."
   ]
  }
 ],
 "metadata": {
  "kernelspec": {
   "display_name": "Python 3",
   "language": "python",
   "name": "python3"
  },
  "language_info": {
   "codemirror_mode": {
    "name": "ipython",
    "version": 3
   },
   "file_extension": ".py",
   "mimetype": "text/x-python",
   "name": "python",
   "nbconvert_exporter": "python",
   "pygments_lexer": "ipython3",
   "version": "3.6.7"
  }
 },
 "nbformat": 4,
 "nbformat_minor": 1
}
